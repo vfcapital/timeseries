{
 "cells": [
  {
   "cell_type": "code",
   "execution_count": 5,
   "metadata": {},
   "outputs": [
    {
     "name": "stdout",
     "output_type": "stream",
     "text": [
      "The autoreload extension is already loaded. To reload it, use:\n",
      "  %reload_ext autoreload\n"
     ]
    }
   ],
   "source": [
    "%load_ext autoreload\n",
    "%autoreload 2"
   ]
  },
  {
   "cell_type": "code",
   "execution_count": 6,
   "metadata": {},
   "outputs": [],
   "source": [
    "sys.path.insert(0, \"../timeseries/\")"
   ]
  },
  {
   "cell_type": "code",
   "execution_count": 25,
   "metadata": {},
   "outputs": [],
   "source": [
    "from scraper import (\n",
    "    get_coin_returns,\n",
    ")\n",
    "from forecast import (\n",
    "    find_least_bitcoin_correl, evaluate_models, analyse_final_model\n",
    ")\n",
    "from pandas.plotting import autocorrelation_plot\n",
    "import warnings\n",
    "warnings.filterwarnings(\"ignore\")"
   ]
  },
  {
   "cell_type": "markdown",
   "metadata": {},
   "source": [
    "### Returns of 50 largest crypto tokens (per market cap)"
   ]
  },
  {
   "cell_type": "code",
   "execution_count": 8,
   "metadata": {},
   "outputs": [],
   "source": [
    "coin_returns = get_coin_returns()"
   ]
  },
  {
   "cell_type": "code",
   "execution_count": 9,
   "metadata": {},
   "outputs": [
    {
     "data": {
      "text/html": [
       "<div>\n",
       "<style scoped>\n",
       "    .dataframe tbody tr th:only-of-type {\n",
       "        vertical-align: middle;\n",
       "    }\n",
       "\n",
       "    .dataframe tbody tr th {\n",
       "        vertical-align: top;\n",
       "    }\n",
       "\n",
       "    .dataframe thead th {\n",
       "        text-align: right;\n",
       "    }\n",
       "</style>\n",
       "<table border=\"1\" class=\"dataframe\">\n",
       "  <thead>\n",
       "    <tr style=\"text-align: right;\">\n",
       "      <th></th>\n",
       "      <th>bitcoin</th>\n",
       "      <th>ethereum</th>\n",
       "      <th>tether</th>\n",
       "      <th>usd-coin</th>\n",
       "      <th>binancecoin</th>\n",
       "      <th>binance-usd</th>\n",
       "      <th>ripple</th>\n",
       "      <th>cardano</th>\n",
       "      <th>solana</th>\n",
       "      <th>dogecoin</th>\n",
       "      <th>...</th>\n",
       "      <th>internet-computer</th>\n",
       "      <th>decentraland</th>\n",
       "      <th>tezos</th>\n",
       "      <th>true-usd</th>\n",
       "      <th>filecoin</th>\n",
       "      <th>theta-token</th>\n",
       "      <th>axie-infinity</th>\n",
       "      <th>elrond-erd-2</th>\n",
       "      <th>bitcoin-cash-sv</th>\n",
       "      <th>helium</th>\n",
       "    </tr>\n",
       "    <tr>\n",
       "      <th>date</th>\n",
       "      <th></th>\n",
       "      <th></th>\n",
       "      <th></th>\n",
       "      <th></th>\n",
       "      <th></th>\n",
       "      <th></th>\n",
       "      <th></th>\n",
       "      <th></th>\n",
       "      <th></th>\n",
       "      <th></th>\n",
       "      <th></th>\n",
       "      <th></th>\n",
       "      <th></th>\n",
       "      <th></th>\n",
       "      <th></th>\n",
       "      <th></th>\n",
       "      <th></th>\n",
       "      <th></th>\n",
       "      <th></th>\n",
       "      <th></th>\n",
       "      <th></th>\n",
       "    </tr>\n",
       "  </thead>\n",
       "  <tbody>\n",
       "    <tr>\n",
       "      <th>2022-06-26</th>\n",
       "      <td>0.012377</td>\n",
       "      <td>0.012187</td>\n",
       "      <td>0.003286</td>\n",
       "      <td>0.003850</td>\n",
       "      <td>-0.004270</td>\n",
       "      <td>0.003874</td>\n",
       "      <td>-0.002568</td>\n",
       "      <td>-0.008705</td>\n",
       "      <td>-0.002139</td>\n",
       "      <td>0.019556</td>\n",
       "      <td>...</td>\n",
       "      <td>0.025987</td>\n",
       "      <td>0.088996</td>\n",
       "      <td>-0.003293</td>\n",
       "      <td>0.003011</td>\n",
       "      <td>-0.015101</td>\n",
       "      <td>0.051930</td>\n",
       "      <td>0.037048</td>\n",
       "      <td>-0.025189</td>\n",
       "      <td>-0.007138</td>\n",
       "      <td>0.020816</td>\n",
       "    </tr>\n",
       "    <tr>\n",
       "      <th>2022-06-27</th>\n",
       "      <td>-0.021977</td>\n",
       "      <td>-0.034597</td>\n",
       "      <td>0.001980</td>\n",
       "      <td>-0.001940</td>\n",
       "      <td>-0.022446</td>\n",
       "      <td>-0.003051</td>\n",
       "      <td>-0.019037</td>\n",
       "      <td>-0.013764</td>\n",
       "      <td>-0.068133</td>\n",
       "      <td>0.075748</td>\n",
       "      <td>...</td>\n",
       "      <td>-0.076384</td>\n",
       "      <td>-0.083219</td>\n",
       "      <td>-0.058300</td>\n",
       "      <td>0.000289</td>\n",
       "      <td>-0.038850</td>\n",
       "      <td>-0.086175</td>\n",
       "      <td>-0.090728</td>\n",
       "      <td>-0.103681</td>\n",
       "      <td>-0.043733</td>\n",
       "      <td>-0.084335</td>\n",
       "    </tr>\n",
       "    <tr>\n",
       "      <th>2022-06-28</th>\n",
       "      <td>-0.014313</td>\n",
       "      <td>-0.005838</td>\n",
       "      <td>-0.001990</td>\n",
       "      <td>-0.000432</td>\n",
       "      <td>-0.002946</td>\n",
       "      <td>0.002384</td>\n",
       "      <td>-0.018335</td>\n",
       "      <td>-0.009504</td>\n",
       "      <td>-0.025251</td>\n",
       "      <td>-0.016834</td>\n",
       "      <td>...</td>\n",
       "      <td>-0.008660</td>\n",
       "      <td>0.032091</td>\n",
       "      <td>0.104951</td>\n",
       "      <td>0.000286</td>\n",
       "      <td>-0.011011</td>\n",
       "      <td>-0.011189</td>\n",
       "      <td>-0.017992</td>\n",
       "      <td>0.012124</td>\n",
       "      <td>-0.013960</td>\n",
       "      <td>0.024697</td>\n",
       "    </tr>\n",
       "    <tr>\n",
       "      <th>2022-06-29</th>\n",
       "      <td>-0.022598</td>\n",
       "      <td>-0.042447</td>\n",
       "      <td>-0.000235</td>\n",
       "      <td>0.000107</td>\n",
       "      <td>-0.029181</td>\n",
       "      <td>-0.001818</td>\n",
       "      <td>-0.046011</td>\n",
       "      <td>-0.034029</td>\n",
       "      <td>-0.082466</td>\n",
       "      <td>-0.089879</td>\n",
       "      <td>...</td>\n",
       "      <td>-0.051978</td>\n",
       "      <td>-0.084125</td>\n",
       "      <td>-0.049983</td>\n",
       "      <td>0.000030</td>\n",
       "      <td>-0.048441</td>\n",
       "      <td>-0.050717</td>\n",
       "      <td>-0.039728</td>\n",
       "      <td>-0.072242</td>\n",
       "      <td>-0.050574</td>\n",
       "      <td>-0.090312</td>\n",
       "    </tr>\n",
       "    <tr>\n",
       "      <th>2022-06-30</th>\n",
       "      <td>-0.008579</td>\n",
       "      <td>-0.039026</td>\n",
       "      <td>0.000663</td>\n",
       "      <td>-0.000154</td>\n",
       "      <td>-0.033694</td>\n",
       "      <td>0.002055</td>\n",
       "      <td>-0.023183</td>\n",
       "      <td>-0.010603</td>\n",
       "      <td>-0.039943</td>\n",
       "      <td>0.054539</td>\n",
       "      <td>...</td>\n",
       "      <td>-0.017041</td>\n",
       "      <td>-0.010966</td>\n",
       "      <td>-0.033808</td>\n",
       "      <td>0.000107</td>\n",
       "      <td>-0.010402</td>\n",
       "      <td>-0.027898</td>\n",
       "      <td>-0.059439</td>\n",
       "      <td>-0.032769</td>\n",
       "      <td>-0.000665</td>\n",
       "      <td>-0.041464</td>\n",
       "    </tr>\n",
       "  </tbody>\n",
       "</table>\n",
       "<p>5 rows × 50 columns</p>\n",
       "</div>"
      ],
      "text/plain": [
       "             bitcoin  ethereum    tether  usd-coin  binancecoin  binance-usd  \\\n",
       "date                                                                           \n",
       "2022-06-26  0.012377  0.012187  0.003286  0.003850    -0.004270     0.003874   \n",
       "2022-06-27 -0.021977 -0.034597  0.001980 -0.001940    -0.022446    -0.003051   \n",
       "2022-06-28 -0.014313 -0.005838 -0.001990 -0.000432    -0.002946     0.002384   \n",
       "2022-06-29 -0.022598 -0.042447 -0.000235  0.000107    -0.029181    -0.001818   \n",
       "2022-06-30 -0.008579 -0.039026  0.000663 -0.000154    -0.033694     0.002055   \n",
       "\n",
       "              ripple   cardano    solana  dogecoin  ...  internet-computer  \\\n",
       "date                                                ...                      \n",
       "2022-06-26 -0.002568 -0.008705 -0.002139  0.019556  ...           0.025987   \n",
       "2022-06-27 -0.019037 -0.013764 -0.068133  0.075748  ...          -0.076384   \n",
       "2022-06-28 -0.018335 -0.009504 -0.025251 -0.016834  ...          -0.008660   \n",
       "2022-06-29 -0.046011 -0.034029 -0.082466 -0.089879  ...          -0.051978   \n",
       "2022-06-30 -0.023183 -0.010603 -0.039943  0.054539  ...          -0.017041   \n",
       "\n",
       "            decentraland     tezos  true-usd  filecoin  theta-token  \\\n",
       "date                                                                  \n",
       "2022-06-26      0.088996 -0.003293  0.003011 -0.015101     0.051930   \n",
       "2022-06-27     -0.083219 -0.058300  0.000289 -0.038850    -0.086175   \n",
       "2022-06-28      0.032091  0.104951  0.000286 -0.011011    -0.011189   \n",
       "2022-06-29     -0.084125 -0.049983  0.000030 -0.048441    -0.050717   \n",
       "2022-06-30     -0.010966 -0.033808  0.000107 -0.010402    -0.027898   \n",
       "\n",
       "            axie-infinity  elrond-erd-2  bitcoin-cash-sv    helium  \n",
       "date                                                                \n",
       "2022-06-26       0.037048     -0.025189        -0.007138  0.020816  \n",
       "2022-06-27      -0.090728     -0.103681        -0.043733 -0.084335  \n",
       "2022-06-28      -0.017992      0.012124        -0.013960  0.024697  \n",
       "2022-06-29      -0.039728     -0.072242        -0.050574 -0.090312  \n",
       "2022-06-30      -0.059439     -0.032769        -0.000665 -0.041464  \n",
       "\n",
       "[5 rows x 50 columns]"
      ]
     },
     "execution_count": 9,
     "metadata": {},
     "output_type": "execute_result"
    }
   ],
   "source": [
    "coin_returns.tail()"
   ]
  },
  {
   "cell_type": "markdown",
   "metadata": {},
   "source": [
    "### Correlation-Matrix"
   ]
  },
  {
   "cell_type": "code",
   "execution_count": 10,
   "metadata": {},
   "outputs": [
    {
     "data": {
      "text/html": [
       "<div>\n",
       "<style scoped>\n",
       "    .dataframe tbody tr th:only-of-type {\n",
       "        vertical-align: middle;\n",
       "    }\n",
       "\n",
       "    .dataframe tbody tr th {\n",
       "        vertical-align: top;\n",
       "    }\n",
       "\n",
       "    .dataframe thead th {\n",
       "        text-align: right;\n",
       "    }\n",
       "</style>\n",
       "<table border=\"1\" class=\"dataframe\">\n",
       "  <thead>\n",
       "    <tr style=\"text-align: right;\">\n",
       "      <th></th>\n",
       "      <th>bitcoin</th>\n",
       "      <th>ethereum</th>\n",
       "      <th>tether</th>\n",
       "      <th>usd-coin</th>\n",
       "      <th>binancecoin</th>\n",
       "      <th>binance-usd</th>\n",
       "      <th>ripple</th>\n",
       "      <th>cardano</th>\n",
       "      <th>solana</th>\n",
       "      <th>dogecoin</th>\n",
       "      <th>...</th>\n",
       "      <th>internet-computer</th>\n",
       "      <th>decentraland</th>\n",
       "      <th>tezos</th>\n",
       "      <th>true-usd</th>\n",
       "      <th>filecoin</th>\n",
       "      <th>theta-token</th>\n",
       "      <th>axie-infinity</th>\n",
       "      <th>elrond-erd-2</th>\n",
       "      <th>bitcoin-cash-sv</th>\n",
       "      <th>helium</th>\n",
       "    </tr>\n",
       "  </thead>\n",
       "  <tbody>\n",
       "    <tr>\n",
       "      <th>bitcoin</th>\n",
       "      <td>1.000000</td>\n",
       "      <td>0.918653</td>\n",
       "      <td>-0.133713</td>\n",
       "      <td>-0.091684</td>\n",
       "      <td>0.871361</td>\n",
       "      <td>-0.070695</td>\n",
       "      <td>0.793671</td>\n",
       "      <td>0.796521</td>\n",
       "      <td>0.741243</td>\n",
       "      <td>0.723397</td>\n",
       "      <td>...</td>\n",
       "      <td>0.698255</td>\n",
       "      <td>0.595334</td>\n",
       "      <td>0.795877</td>\n",
       "      <td>-0.271602</td>\n",
       "      <td>0.728468</td>\n",
       "      <td>0.663195</td>\n",
       "      <td>0.701772</td>\n",
       "      <td>0.626959</td>\n",
       "      <td>0.676570</td>\n",
       "      <td>0.647676</td>\n",
       "    </tr>\n",
       "    <tr>\n",
       "      <th>ethereum</th>\n",
       "      <td>0.918653</td>\n",
       "      <td>1.000000</td>\n",
       "      <td>-0.168110</td>\n",
       "      <td>-0.127155</td>\n",
       "      <td>0.900294</td>\n",
       "      <td>-0.077774</td>\n",
       "      <td>0.842649</td>\n",
       "      <td>0.800272</td>\n",
       "      <td>0.821623</td>\n",
       "      <td>0.742289</td>\n",
       "      <td>...</td>\n",
       "      <td>0.710238</td>\n",
       "      <td>0.633396</td>\n",
       "      <td>0.843192</td>\n",
       "      <td>-0.296887</td>\n",
       "      <td>0.768076</td>\n",
       "      <td>0.708440</td>\n",
       "      <td>0.732059</td>\n",
       "      <td>0.728022</td>\n",
       "      <td>0.718576</td>\n",
       "      <td>0.706301</td>\n",
       "    </tr>\n",
       "    <tr>\n",
       "      <th>tether</th>\n",
       "      <td>-0.133713</td>\n",
       "      <td>-0.168110</td>\n",
       "      <td>1.000000</td>\n",
       "      <td>0.280043</td>\n",
       "      <td>-0.012980</td>\n",
       "      <td>0.321214</td>\n",
       "      <td>-0.043098</td>\n",
       "      <td>-0.052597</td>\n",
       "      <td>0.007565</td>\n",
       "      <td>0.060294</td>\n",
       "      <td>...</td>\n",
       "      <td>0.076551</td>\n",
       "      <td>0.249924</td>\n",
       "      <td>-0.122846</td>\n",
       "      <td>0.676831</td>\n",
       "      <td>0.003471</td>\n",
       "      <td>0.163319</td>\n",
       "      <td>-0.057004</td>\n",
       "      <td>-0.028540</td>\n",
       "      <td>-0.015508</td>\n",
       "      <td>-0.002293</td>\n",
       "    </tr>\n",
       "    <tr>\n",
       "      <th>usd-coin</th>\n",
       "      <td>-0.091684</td>\n",
       "      <td>-0.127155</td>\n",
       "      <td>0.280043</td>\n",
       "      <td>1.000000</td>\n",
       "      <td>-0.137174</td>\n",
       "      <td>0.189716</td>\n",
       "      <td>-0.148431</td>\n",
       "      <td>-0.137629</td>\n",
       "      <td>0.004289</td>\n",
       "      <td>-0.197309</td>\n",
       "      <td>...</td>\n",
       "      <td>-0.136047</td>\n",
       "      <td>0.106192</td>\n",
       "      <td>-0.123027</td>\n",
       "      <td>0.271611</td>\n",
       "      <td>-0.129664</td>\n",
       "      <td>0.041371</td>\n",
       "      <td>-0.085460</td>\n",
       "      <td>-0.051249</td>\n",
       "      <td>-0.063788</td>\n",
       "      <td>-0.070556</td>\n",
       "    </tr>\n",
       "    <tr>\n",
       "      <th>binancecoin</th>\n",
       "      <td>0.871361</td>\n",
       "      <td>0.900294</td>\n",
       "      <td>-0.012980</td>\n",
       "      <td>-0.137174</td>\n",
       "      <td>1.000000</td>\n",
       "      <td>-0.017776</td>\n",
       "      <td>0.886830</td>\n",
       "      <td>0.810616</td>\n",
       "      <td>0.821713</td>\n",
       "      <td>0.771719</td>\n",
       "      <td>...</td>\n",
       "      <td>0.797246</td>\n",
       "      <td>0.721760</td>\n",
       "      <td>0.847491</td>\n",
       "      <td>-0.193491</td>\n",
       "      <td>0.808836</td>\n",
       "      <td>0.747152</td>\n",
       "      <td>0.725412</td>\n",
       "      <td>0.751707</td>\n",
       "      <td>0.743847</td>\n",
       "      <td>0.708896</td>\n",
       "    </tr>\n",
       "  </tbody>\n",
       "</table>\n",
       "<p>5 rows × 50 columns</p>\n",
       "</div>"
      ],
      "text/plain": [
       "              bitcoin  ethereum    tether  usd-coin  binancecoin  binance-usd  \\\n",
       "bitcoin      1.000000  0.918653 -0.133713 -0.091684     0.871361    -0.070695   \n",
       "ethereum     0.918653  1.000000 -0.168110 -0.127155     0.900294    -0.077774   \n",
       "tether      -0.133713 -0.168110  1.000000  0.280043    -0.012980     0.321214   \n",
       "usd-coin    -0.091684 -0.127155  0.280043  1.000000    -0.137174     0.189716   \n",
       "binancecoin  0.871361  0.900294 -0.012980 -0.137174     1.000000    -0.017776   \n",
       "\n",
       "               ripple   cardano    solana  dogecoin  ...  internet-computer  \\\n",
       "bitcoin      0.793671  0.796521  0.741243  0.723397  ...           0.698255   \n",
       "ethereum     0.842649  0.800272  0.821623  0.742289  ...           0.710238   \n",
       "tether      -0.043098 -0.052597  0.007565  0.060294  ...           0.076551   \n",
       "usd-coin    -0.148431 -0.137629  0.004289 -0.197309  ...          -0.136047   \n",
       "binancecoin  0.886830  0.810616  0.821713  0.771719  ...           0.797246   \n",
       "\n",
       "             decentraland     tezos  true-usd  filecoin  theta-token  \\\n",
       "bitcoin          0.595334  0.795877 -0.271602  0.728468     0.663195   \n",
       "ethereum         0.633396  0.843192 -0.296887  0.768076     0.708440   \n",
       "tether           0.249924 -0.122846  0.676831  0.003471     0.163319   \n",
       "usd-coin         0.106192 -0.123027  0.271611 -0.129664     0.041371   \n",
       "binancecoin      0.721760  0.847491 -0.193491  0.808836     0.747152   \n",
       "\n",
       "             axie-infinity  elrond-erd-2  bitcoin-cash-sv    helium  \n",
       "bitcoin           0.701772      0.626959         0.676570  0.647676  \n",
       "ethereum          0.732059      0.728022         0.718576  0.706301  \n",
       "tether           -0.057004     -0.028540        -0.015508 -0.002293  \n",
       "usd-coin         -0.085460     -0.051249        -0.063788 -0.070556  \n",
       "binancecoin       0.725412      0.751707         0.743847  0.708896  \n",
       "\n",
       "[5 rows x 50 columns]"
      ]
     },
     "execution_count": 10,
     "metadata": {},
     "output_type": "execute_result"
    }
   ],
   "source": [
    "coin_returns.dropna().corr().head()"
   ]
  },
  {
   "cell_type": "markdown",
   "metadata": {},
   "source": [
    "### Filter returns of coin with least correlation with Bitcoin "
   ]
  },
  {
   "cell_type": "code",
   "execution_count": 11,
   "metadata": {},
   "outputs": [],
   "source": [
    "series = find_least_bitcoin_correl(coin_returns)"
   ]
  },
  {
   "cell_type": "code",
   "execution_count": 12,
   "metadata": {},
   "outputs": [
    {
     "data": {
      "text/html": [
       "<div>\n",
       "<style scoped>\n",
       "    .dataframe tbody tr th:only-of-type {\n",
       "        vertical-align: middle;\n",
       "    }\n",
       "\n",
       "    .dataframe tbody tr th {\n",
       "        vertical-align: top;\n",
       "    }\n",
       "\n",
       "    .dataframe thead th {\n",
       "        text-align: right;\n",
       "    }\n",
       "</style>\n",
       "<table border=\"1\" class=\"dataframe\">\n",
       "  <thead>\n",
       "    <tr style=\"text-align: right;\">\n",
       "      <th></th>\n",
       "      <th>frax</th>\n",
       "    </tr>\n",
       "    <tr>\n",
       "      <th>date</th>\n",
       "      <th></th>\n",
       "    </tr>\n",
       "  </thead>\n",
       "  <tbody>\n",
       "    <tr>\n",
       "      <th>2022-06-26</th>\n",
       "      <td>0.000259</td>\n",
       "    </tr>\n",
       "    <tr>\n",
       "      <th>2022-06-27</th>\n",
       "      <td>-0.001740</td>\n",
       "    </tr>\n",
       "    <tr>\n",
       "      <th>2022-06-28</th>\n",
       "      <td>-0.000272</td>\n",
       "    </tr>\n",
       "    <tr>\n",
       "      <th>2022-06-29</th>\n",
       "      <td>-0.009858</td>\n",
       "    </tr>\n",
       "    <tr>\n",
       "      <th>2022-06-30</th>\n",
       "      <td>0.011436</td>\n",
       "    </tr>\n",
       "  </tbody>\n",
       "</table>\n",
       "</div>"
      ],
      "text/plain": [
       "                frax\n",
       "date                \n",
       "2022-06-26  0.000259\n",
       "2022-06-27 -0.001740\n",
       "2022-06-28 -0.000272\n",
       "2022-06-29 -0.009858\n",
       "2022-06-30  0.011436"
      ]
     },
     "execution_count": 12,
     "metadata": {},
     "output_type": "execute_result"
    }
   ],
   "source": [
    "series.tail()"
   ]
  },
  {
   "cell_type": "code",
   "execution_count": 13,
   "metadata": {},
   "outputs": [
    {
     "data": {
      "text/plain": [
       "<AxesSubplot:ylabel='Frequency'>"
      ]
     },
     "execution_count": 13,
     "metadata": {},
     "output_type": "execute_result"
    },
    {
     "data": {
      "image/png": "[encoded data removed]",
      "text/plain": [
       "<Figure size 432x288 with 1 Axes>"
      ]
     },
     "metadata": {
      "needs_background": "light"
     },
     "output_type": "display_data"
    }
   ],
   "source": [
    "series.plot(kind=\"hist\", grid=True)"
   ]
  },
  {
   "cell_type": "code",
   "execution_count": 14,
   "metadata": {},
   "outputs": [
    {
     "data": {
      "text/plain": [
       "<AxesSubplot:xlabel='Lag', ylabel='Autocorrelation'>"
      ]
     },
     "execution_count": 14,
     "metadata": {},
     "output_type": "execute_result"
    },
    {
     "data": {
      "image/png": "[encoded data removed]",
      "text/plain": [
       "<Figure size 432x288 with 1 Axes>"
      ]
     },
     "metadata": {
      "needs_background": "light"
     },
     "output_type": "display_data"
    }
   ],
   "source": [
    "autocorrelation_plot(series)"
   ]
  },
  {
   "cell_type": "markdown",
   "metadata": {},
   "source": [
    "### ARIMA optimization"
   ]
  },
  {
   "cell_type": "code",
   "execution_count": 15,
   "metadata": {},
   "outputs": [
    {
     "name": "stdout",
     "output_type": "stream",
     "text": [
      "Best ARIMANone RMSE=inf\n"
     ]
    }
   ],
   "source": [
    "# set parameters\n",
    "p_values = range(0, 4)\n",
    "d_values = [0, 1]\n",
    "q_values = range(0, 4)\n",
    "\n",
    "evaluate_models(series.values, p_values, d_values, q_values)"
   ]
  },
  {
   "cell_type": "markdown",
   "metadata": {},
   "source": [
    "### ARIMA Forecast"
   ]
  },
  {
   "cell_type": "code",
   "execution_count": 23,
   "metadata": {},
   "outputs": [],
   "source": [
    "arima_model = (1, 1, 2)"
   ]
  },
  {
   "cell_type": "code",
   "execution_count": 26,
   "metadata": {},
   "outputs": [
    {
     "data": {
      "image/png": "[encoded data removed]",
      "text/plain": [
       "<Figure size 432x288 with 1 Axes>"
      ]
     },
     "metadata": {
      "needs_background": "light"
     },
     "output_type": "display_data"
    },
    {
     "name": "stdout",
     "output_type": "stream",
     "text": [
      "                               SARIMAX Results                                \n",
      "==============================================================================\n",
      "Dep. Variable:                      y   No. Observations:                  555\n",
      "Model:                 ARIMA(1, 1, 2)   Log Likelihood                2065.751\n",
      "Date:                Thu, 30 Jun 2022   AIC                          -4123.501\n",
      "Time:                        16:59:25   BIC                          -4106.233\n",
      "Sample:                             0   HQIC                         -4116.755\n",
      "                                - 555                                         \n",
      "Covariance Type:                  opg                                         \n",
      "==============================================================================\n",
      "                 coef    std err          z      P>|z|      [0.025      0.975]\n",
      "------------------------------------------------------------------------------\n",
      "ar.L1          0.0109      0.043      0.255      0.799      -0.073       0.095\n",
      "ma.L1         -1.7767      0.030    -59.323      0.000      -1.835      -1.718\n",
      "ma.L2          0.7833      0.030     25.978      0.000       0.724       0.842\n",
      "sigma2      3.589e-05   1.44e-06     24.956      0.000    3.31e-05    3.87e-05\n",
      "===================================================================================\n",
      "Ljung-Box (L1) (Q):                   0.00   Jarque-Bera (JB):               345.21\n",
      "Prob(Q):                              0.96   Prob(JB):                         0.00\n",
      "Heteroskedasticity (H):               0.11   Skew:                            -0.76\n",
      "Prob(H) (two-sided):                  0.00   Kurtosis:                         6.56\n",
      "===================================================================================\n",
      "\n",
      "Warnings:\n",
      "[1] Covariance matrix calculated using the outer product of gradients (complex-step).\n"
     ]
    }
   ],
   "source": [
    "analyse_final_model(series, arima_model)"
   ]
  }
 ],
 "metadata": {
  "kernelspec": {
   "display_name": "Python 3.10.2 64-bit",
   "language": "python",
   "name": "python3"
  },
  "language_info": {
   "codemirror_mode": {
    "name": "ipython",
    "version": 3
   },
   "file_extension": ".py",
   "mimetype": "text/x-python",
   "name": "python",
   "nbconvert_exporter": "python",
   "pygments_lexer": "ipython3",
   "version": "3.10.2"
  },
  "orig_nbformat": 4,
  "vscode": {
   "interpreter": {
    "hash": "c8701ac92f2f83cf740de0b1674dbf189065e9ebfdc20498cb1e5c9f41b0ab69"
   }
  }
 },
 "nbformat": 4,
 "nbformat_minor": 2
}
