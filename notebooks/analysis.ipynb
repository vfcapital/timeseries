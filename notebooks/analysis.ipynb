{
 "cells": [
  {
   "cell_type": "code",
   "execution_count": 22,
   "metadata": {},
   "outputs": [
    {
     "name": "stdout",
     "output_type": "stream",
     "text": [
      "The autoreload extension is already loaded. To reload it, use:\n",
      "  %reload_ext autoreload\n"
     ]
    }
   ],
   "source": [
    "%load_ext autoreload\n",
    "%autoreload 2"
   ]
  },
  {
   "cell_type": "code",
   "execution_count": 23,
   "metadata": {},
   "outputs": [],
   "source": [
    "sys.path.insert(0, \"../timeseries/\")"
   ]
  },
  {
   "cell_type": "code",
   "execution_count": 105,
   "metadata": {},
   "outputs": [],
   "source": [
    "import datetime\n",
    "import pandas as pd\n",
    "from sklearn.metrics import mean_squared_error\n",
    "from statsmodels.tsa.arima.model import ARIMA\n",
    "from statsmodels.tsa.stattools import adfuller\n",
    "\n",
    "import warnings\n",
    "warnings.filterwarnings(\"ignore\")"
   ]
  },
  {
   "cell_type": "code",
   "execution_count": 25,
   "metadata": {},
   "outputs": [],
   "source": [
    "coins = pd.read_csv(\"coins.csv\", index_col=0)\n",
    "coins.index = pd.to_datetime(coins.index, format=\"%d-%m-%Y\").date\n",
    "series = coins[\"frax\"].dropna()"
   ]
  },
  {
   "cell_type": "code",
   "execution_count": 26,
   "metadata": {},
   "outputs": [],
   "source": [
    "in_start = datetime.date(2021, 1, 1)\n",
    "in_end = datetime.date(2021, 5, 31)\n",
    "out_start = datetime.date(2022, 6, 1)\n",
    "out_end = datetime.date(2022, 7, 1)\n",
    "\n",
    "insample = series.loc[in_start:in_end]\n",
    "outsample = series.loc[out_start:out_end]"
   ]
  },
  {
   "cell_type": "code",
   "execution_count": 104,
   "metadata": {},
   "outputs": [],
   "source": [
    "def adf(series):\n",
    "    result = adfuller(series)\n",
    "    print('ADF Statistic: {}'.format(result[0]))\n",
    "    print('p-value: {}'.format(result[1]))\n",
    "    print('Critical Values:')\n",
    "    for key, value in result[4].items():\n",
    "        print('\\t{}: {}'.format(key, value))"
   ]
  },
  {
   "cell_type": "code",
   "execution_count": 106,
   "metadata": {},
   "outputs": [
    {
     "name": "stdout",
     "output_type": "stream",
     "text": [
      "ADF Statistic: -8.450060811593868\n",
      "p-value: 1.6717501497116346e-13\n",
      "Critical Values:\n",
      "\t1%: -3.442081300525009\n",
      "\t5%: -2.8667149792729596\n",
      "\t10%: -2.569526100127551\n"
     ]
    }
   ],
   "source": [
    "adf(series)"
   ]
  },
  {
   "cell_type": "code",
   "execution_count": 28,
   "metadata": {},
   "outputs": [],
   "source": [
    "arima_parameters = []\n",
    "rmse = {}\n",
    "\n",
    "train_size = int(len(insample))\n",
    "train, test = series[0:train_size], series[train_size:]\n",
    "history = [x for x in insample]\n",
    "\n",
    "p_values = range(0,4)\n",
    "d_values = [0,1]\n",
    "q_values = range(0,4)\n",
    "for p in p_values:\n",
    "        for d in d_values:\n",
    "            for q in q_values:\n",
    "                order = (p, d, q)\n",
    "                arima_parameters.append(order)\n",
    "                model = ARIMA(history, order=order)\n",
    "                predictions = []\n",
    "                for t in range(len(test)):\n",
    "                    model_fit = model.fit()\n",
    "                    yhat = model_fit.forecast()[0]\n",
    "                    predictions.append(yhat)\n",
    "                rmse[order] = mean_squared_error(test, predictions)"
   ]
  },
  {
   "cell_type": "code",
   "execution_count": 32,
   "metadata": {},
   "outputs": [
    {
     "data": {
      "text/plain": [
       "((2, 1, 0), 2.1e-05)"
      ]
     },
     "execution_count": 32,
     "metadata": {},
     "output_type": "execute_result"
    }
   ],
   "source": [
    "min_rmse = rmse[min(rmse, key=rmse.get)]\n",
    "min(rmse, key=rmse.get), round(min_rmse,6)"
   ]
  },
  {
   "cell_type": "code",
   "execution_count": 107,
   "metadata": {},
   "outputs": [
    {
     "data": {
      "text/plain": [
       "((2, 1, 3), 2.4e-05)"
      ]
     },
     "execution_count": 107,
     "metadata": {},
     "output_type": "execute_result"
    }
   ],
   "source": [
    "max_rmse = rmse[max(rmse, key=rmse.get)]\n",
    "max(rmse, key=rmse.get), round(max_rmse,6)"
   ]
  },
  {
   "cell_type": "code",
   "execution_count": 63,
   "metadata": {},
   "outputs": [],
   "source": [
    "rmse_df = pd.DataFrame.from_dict(rmse, orient=\"index\")"
   ]
  },
  {
   "cell_type": "code",
   "execution_count": 64,
   "metadata": {},
   "outputs": [],
   "source": [
    "rmse_df = rmse_df.reset_index().rename(columns={\"index\":\"order\", 0:\"RMSE\"})"
   ]
  },
  {
   "cell_type": "code",
   "execution_count": 68,
   "metadata": {},
   "outputs": [
    {
     "data": {
      "text/html": [
       "<div>\n",
       "<style scoped>\n",
       "    .dataframe tbody tr th:only-of-type {\n",
       "        vertical-align: middle;\n",
       "    }\n",
       "\n",
       "    .dataframe tbody tr th {\n",
       "        vertical-align: top;\n",
       "    }\n",
       "\n",
       "    .dataframe thead th {\n",
       "        text-align: right;\n",
       "    }\n",
       "</style>\n",
       "<table border=\"1\" class=\"dataframe\">\n",
       "  <thead>\n",
       "    <tr style=\"text-align: right;\">\n",
       "      <th></th>\n",
       "      <th>order</th>\n",
       "      <th>RMSE</th>\n",
       "    </tr>\n",
       "  </thead>\n",
       "  <tbody>\n",
       "    <tr>\n",
       "      <th>0</th>\n",
       "      <td>(0, 0, 0)</td>\n",
       "      <td>0.000021</td>\n",
       "    </tr>\n",
       "    <tr>\n",
       "      <th>1</th>\n",
       "      <td>(0, 0, 1)</td>\n",
       "      <td>0.000021</td>\n",
       "    </tr>\n",
       "    <tr>\n",
       "      <th>2</th>\n",
       "      <td>(0, 0, 2)</td>\n",
       "      <td>0.000021</td>\n",
       "    </tr>\n",
       "    <tr>\n",
       "      <th>3</th>\n",
       "      <td>(0, 0, 3)</td>\n",
       "      <td>0.000021</td>\n",
       "    </tr>\n",
       "    <tr>\n",
       "      <th>4</th>\n",
       "      <td>(0, 1, 0)</td>\n",
       "      <td>0.000021</td>\n",
       "    </tr>\n",
       "  </tbody>\n",
       "</table>\n",
       "</div>"
      ],
      "text/plain": [
       "       order      RMSE\n",
       "0  (0, 0, 0)  0.000021\n",
       "1  (0, 0, 1)  0.000021\n",
       "2  (0, 0, 2)  0.000021\n",
       "3  (0, 0, 3)  0.000021\n",
       "4  (0, 1, 0)  0.000021"
      ]
     },
     "execution_count": 68,
     "metadata": {},
     "output_type": "execute_result"
    }
   ],
   "source": [
    "rmse_df.head()"
   ]
  },
  {
   "cell_type": "markdown",
   "metadata": {},
   "source": [
    "### ARIMA model"
   ]
  },
  {
   "cell_type": "code",
   "execution_count": 69,
   "metadata": {},
   "outputs": [
    {
     "name": "stdout",
     "output_type": "stream",
     "text": [
      "Best AIC: (1, 0, 2): -1014\n",
      "Best BIC: (0, 0, 0): -1004\n"
     ]
    }
   ],
   "source": [
    "# Information criteria per model\n",
    "aic_dict = {}\n",
    "bic_dict = {}\n",
    "for parameters in arima_parameters:\n",
    "    model = ARIMA(train, order=parameters)\n",
    "    aic_dict[parameters] = model.fit().aic\n",
    "    bic_dict[parameters] = model.fit().bic\n",
    "min_aic = aic_dict[min(aic_dict, key=aic_dict.get)]\n",
    "min_bic = bic_dict[min(bic_dict, key=bic_dict.get)]\n",
    "print(\"Best AIC: \" + str(min(aic_dict, key=aic_dict.get)) +\": \"+ str(int(min_aic)))\n",
    "print(\"Best BIC: \" + str(min(bic_dict, key=bic_dict.get)) +\": \"+ str(int(min_bic)))"
   ]
  },
  {
   "cell_type": "code",
   "execution_count": 73,
   "metadata": {},
   "outputs": [],
   "source": [
    "train_size = int(len(insample))\n",
    "train, test = series[0:train_size], series[train_size:]\n",
    "history = [x for x in insample]\n",
    "\n",
    "arima_parameters.append(order)\n",
    "model = ARIMA(history, order=(2,1,0))\n",
    "predictions = []\n",
    "for t in range(len(test)):\n",
    "    model_fit = model.fit()\n",
    "    yhat = model_fit.forecast()[0]\n",
    "    predictions.append(yhat)\n",
    "rmse[order] = mean_squared_error(test, predictions)"
   ]
  },
  {
   "cell_type": "code",
   "execution_count": 94,
   "metadata": {},
   "outputs": [
    {
     "data": {
      "text/html": [
       "<table class=\"simpletable\">\n",
       "<caption>SARIMAX Results</caption>\n",
       "<tr>\n",
       "  <th>Dep. Variable:</th>           <td>y</td>        <th>  No. Observations:  </th>    <td>151</td>   \n",
       "</tr>\n",
       "<tr>\n",
       "  <th>Model:</th>            <td>ARIMA(2, 1, 0)</td>  <th>  Log Likelihood     </th>  <td>516.054</td> \n",
       "</tr>\n",
       "<tr>\n",
       "  <th>Date:</th>            <td>Sat, 16 Jul 2022</td> <th>  AIC                </th> <td>-1026.108</td>\n",
       "</tr>\n",
       "<tr>\n",
       "  <th>Time:</th>                <td>00:10:30</td>     <th>  BIC                </th> <td>-1017.076</td>\n",
       "</tr>\n",
       "<tr>\n",
       "  <th>Sample:</th>                  <td>0</td>        <th>  HQIC               </th> <td>-1022.439</td>\n",
       "</tr>\n",
       "<tr>\n",
       "  <th></th>                      <td> - 151</td>      <th>                     </th>     <td> </td>    \n",
       "</tr>\n",
       "<tr>\n",
       "  <th>Covariance Type:</th>        <td>opg</td>       <th>                     </th>     <td> </td>    \n",
       "</tr>\n",
       "</table>\n",
       "<table class=\"simpletable\">\n",
       "<tr>\n",
       "     <td></td>       <th>coef</th>     <th>std err</th>      <th>z</th>      <th>P>|z|</th>  <th>[0.025</th>    <th>0.975]</th>  \n",
       "</tr>\n",
       "<tr>\n",
       "  <th>ar.L1</th>  <td>   -0.7501</td> <td>    0.091</td> <td>   -8.232</td> <td> 0.000</td> <td>   -0.929</td> <td>   -0.572</td>\n",
       "</tr>\n",
       "<tr>\n",
       "  <th>ar.L2</th>  <td>   -0.2770</td> <td>    0.082</td> <td>   -3.396</td> <td> 0.001</td> <td>   -0.437</td> <td>   -0.117</td>\n",
       "</tr>\n",
       "<tr>\n",
       "  <th>sigma2</th> <td> 5.988e-05</td> <td> 5.82e-06</td> <td>   10.288</td> <td> 0.000</td> <td> 4.85e-05</td> <td> 7.13e-05</td>\n",
       "</tr>\n",
       "</table>\n",
       "<table class=\"simpletable\">\n",
       "<tr>\n",
       "  <th>Ljung-Box (L1) (Q):</th>     <td>0.47</td> <th>  Jarque-Bera (JB):  </th> <td>10.17</td>\n",
       "</tr>\n",
       "<tr>\n",
       "  <th>Prob(Q):</th>                <td>0.49</td> <th>  Prob(JB):          </th> <td>0.01</td> \n",
       "</tr>\n",
       "<tr>\n",
       "  <th>Heteroskedasticity (H):</th> <td>0.43</td> <th>  Skew:              </th> <td>-0.47</td>\n",
       "</tr>\n",
       "<tr>\n",
       "  <th>Prob(H) (two-sided):</th>    <td>0.00</td> <th>  Kurtosis:          </th> <td>3.87</td> \n",
       "</tr>\n",
       "</table><br/><br/>Warnings:<br/>[1] Covariance matrix calculated using the outer product of gradients (complex-step)."
      ],
      "text/plain": [
       "<class 'statsmodels.iolib.summary.Summary'>\n",
       "\"\"\"\n",
       "                               SARIMAX Results                                \n",
       "==============================================================================\n",
       "Dep. Variable:                      y   No. Observations:                  151\n",
       "Model:                 ARIMA(2, 1, 0)   Log Likelihood                 516.054\n",
       "Date:                Sat, 16 Jul 2022   AIC                          -1026.108\n",
       "Time:                        00:10:30   BIC                          -1017.076\n",
       "Sample:                             0   HQIC                         -1022.439\n",
       "                                - 151                                         \n",
       "Covariance Type:                  opg                                         \n",
       "==============================================================================\n",
       "                 coef    std err          z      P>|z|      [0.025      0.975]\n",
       "------------------------------------------------------------------------------\n",
       "ar.L1         -0.7501      0.091     -8.232      0.000      -0.929      -0.572\n",
       "ar.L2         -0.2770      0.082     -3.396      0.001      -0.437      -0.117\n",
       "sigma2      5.988e-05   5.82e-06     10.288      0.000    4.85e-05    7.13e-05\n",
       "===================================================================================\n",
       "Ljung-Box (L1) (Q):                   0.47   Jarque-Bera (JB):                10.17\n",
       "Prob(Q):                              0.49   Prob(JB):                         0.01\n",
       "Heteroskedasticity (H):               0.43   Skew:                            -0.47\n",
       "Prob(H) (two-sided):                  0.00   Kurtosis:                         3.87\n",
       "===================================================================================\n",
       "\n",
       "Warnings:\n",
       "[1] Covariance matrix calculated using the outer product of gradients (complex-step).\n",
       "\"\"\""
      ]
     },
     "execution_count": 94,
     "metadata": {},
     "output_type": "execute_result"
    }
   ],
   "source": [
    "model_fit.summary()"
   ]
  }
 ],
 "metadata": {
  "kernelspec": {
   "display_name": "Python 3.10.2 64-bit",
   "language": "python",
   "name": "python3"
  },
  "language_info": {
   "codemirror_mode": {
    "name": "ipython",
    "version": 3
   },
   "file_extension": ".py",
   "mimetype": "text/x-python",
   "name": "python",
   "nbconvert_exporter": "python",
   "pygments_lexer": "ipython3",
   "version": "3.10.2"
  },
  "orig_nbformat": 4,
  "vscode": {
   "interpreter": {
    "hash": "c8701ac92f2f83cf740de0b1674dbf189065e9ebfdc20498cb1e5c9f41b0ab69"
   }
  }
 },
 "nbformat": 4,
 "nbformat_minor": 2
}
